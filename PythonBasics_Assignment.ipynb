{
  "nbformat": 4,
  "nbformat_minor": 0,
  "metadata": {
    "colab": {
      "provenance": []
    },
    "kernelspec": {
      "name": "python3",
      "display_name": "Python 3"
    },
    "language_info": {
      "name": "python"
    }
  },
  "cells": [
    {
      "cell_type": "markdown",
      "source": [
        "## ***Theory questions:-***\n",
        "\n",
        "---\n",
        "\n",
        "\n",
        "\n",
        "1. What is Python, and why is it popular?\n",
        "   - Python is an easy-to-learn programming language used for many tasks like web development, data analysis, and automation. It is popular because it's simple, flexible, and has a large supportive community with lots of helpful tools.\n",
        "\n",
        "2. What is an interpreter in Python?\n",
        "  - An interpreter in Python is a tool that reads and runs your Python code directly, one line at a time. It translates your code into actions that the computer can understand and perform right away. This makes it easier to see results quickly.\n",
        "\n",
        "3. What are pre-defined keywords in Python?\n",
        "   - Pre-defined keywords in Python are special words that have a specific meaning and are reserved by the language. These words cannot be used as names for variables, functions, or other identifiers. Examples include words like if, else, while, for, and def. They are used to define the structure and behavior of Python code.\n",
        "\n",
        "4. Can keywords be used as variable names?\n",
        "   - No, keywords cannot be used as variable names in Python. They are reserved words with special meanings, like if, else, and for, and using them as variable names would cause an error.\n",
        "\n",
        "5. What is mutability in Python?\n",
        "   - Mutability in Python refers to whether an object can be changed after it is created.\n",
        "\n",
        "6. Why are lists mutable, but tuples are immutable?\n",
        "  - Lists are mutable because you can change, add, or remove items in them after they are created. Tuples are immutable because once they are cr\n",
        "  eated, their items cannot be changed or modified. This difference helps keep tuples safe from accidental changes, while lists allow more flexibility for modification\n",
        "\n",
        "7. What is the difference between “==” and “is” operators in Python ?\n",
        "    - In python\n",
        "     == checks if the values of two things are the same.\n",
        "     is checks if two things are actually the same object in memory.\n",
        "     So, == compares values, while is compares the objects themselves.\n",
        "\n",
        "8. What are logical operators in Python?\n",
        "   - Logical operators in Python (and, or, not) are used to combine or reverse conditions in expressions.\n",
        "\n",
        "9. What is type casting in Python?\n",
        "   - Type casting in Python is the process of converting one data type into another, like turning an integer into a string or a float into an integer. You can do this using functions like int(), str(), or float().\n",
        "\n",
        "10. What is the difference between implicit and explicit type casting ?   \n",
        "    - The difference between implicit and explicit type casting in Python is:\n",
        "     Implicit type casting: Python automatically converts one data type to another (e.g., from integer to float) without you asking for it.\n",
        "     Explicit type casting: You manually convert one data type to another using functions like int(), str(), or float().\n",
        "\n",
        "11. What is the purpose of conditional statements in Python ?\n",
        "    - The purpose of conditional statements in Python is to make decisions in your code. They allow the program to run different actions based on whether a condition is true or false. The main conditional statements are if, elif, and else.\n",
        "\n",
        "12. How does the elif statement work ?\n",
        "    - The elif statement in Python stands for \"else if.\" It is used after an if statement to check another condition if the first condition is false. If the if condition is false, Python checks the elif condition. If it's true, the code under elif runs. If none of the conditions are true, the else statement (if present) will run.\n",
        "\n",
        "13. What is the difference between for and while loops ?\n",
        "    - A for loop is used when you know how many times you want to repeat, while a while loop is used when you want to repeat as long as a condition is true.  \n",
        "\n",
        "14. Describe a scenario where a while loop is more suitable than a for loop ?          \n",
        "    - A while loop is more suitable when you don't know how many times you need to repeat the action, but you want it to continue as long as a condition is true.\n",
        "     Example: Checking a user’s input until they enter a valid number."
      ],
      "metadata": {
        "id": "gYc00o4jf9Lh"
      }
    },
    {
      "cell_type": "code",
      "source": [
        "user_input = \"\"\n",
        "while not user_input.isdigit():\n",
        "    user_input = input(\"Please enter a valid number: \")\n",
        "print(f\"Valid number entered: {user_input}\")\n"
      ],
      "metadata": {
        "colab": {
          "base_uri": "https://localhost:8080/"
        },
        "id": "O7geLSLLk4-T",
        "outputId": "8967e23a-dbf3-411e-f885-09fe72665061"
      },
      "execution_count": 1,
      "outputs": [
        {
          "output_type": "stream",
          "name": "stdout",
          "text": [
            "Please enter a valid number: 15\n",
            "Valid number entered: 15\n"
          ]
        }
      ]
    },
    {
      "cell_type": "markdown",
      "source": [
        "# PRATICAL QUESTIONS:-"
      ],
      "metadata": {
        "id": "7bD6VZFwqRCQ"
      }
    },
    {
      "cell_type": "code",
      "source": [
        "### Write a Python program to print \"Hello, World!\"\n",
        "\n",
        "print(\"Hello, World!\")"
      ],
      "metadata": {
        "colab": {
          "base_uri": "https://localhost:8080/"
        },
        "id": "3XD1GnGVqqRj",
        "outputId": "69f91c78-bc54-4530-eb88-962b09ac1574"
      },
      "execution_count": 2,
      "outputs": [
        {
          "output_type": "stream",
          "name": "stdout",
          "text": [
            "Hello, World!\n"
          ]
        }
      ]
    },
    {
      "cell_type": "code",
      "source": [
        "### Write a Python program that displays your name and age ?\n",
        "\n",
        "name = \"Millan Kumar\"\n",
        "age = 19\n",
        "\n",
        "print(\"Name:\", name)\n",
        "print(\"Age:\", age)"
      ],
      "metadata": {
        "colab": {
          "base_uri": "https://localhost:8080/"
        },
        "id": "0N5qdPR4q4Km",
        "outputId": "71f447be-161a-4040-a1c6-d4e4690083b8"
      },
      "execution_count": 3,
      "outputs": [
        {
          "output_type": "stream",
          "name": "stdout",
          "text": [
            "Name: Millan Kumar\n",
            "Age: 19\n"
          ]
        }
      ]
    },
    {
      "cell_type": "code",
      "source": [
        "### Write code to print all the pre-defined keywords in Python using the keyword library\n",
        "\n",
        "import keyword\n",
        "\n",
        "# Print all the pre-defined keywords in Python\n",
        "print(keyword.kwlist)"
      ],
      "metadata": {
        "colab": {
          "base_uri": "https://localhost:8080/"
        },
        "id": "T67gf9dRq_Ih",
        "outputId": "7108cda2-a701-4e1c-c6ca-c159e19a7475"
      },
      "execution_count": 4,
      "outputs": [
        {
          "output_type": "stream",
          "name": "stdout",
          "text": [
            "['False', 'None', 'True', 'and', 'as', 'assert', 'async', 'await', 'break', 'class', 'continue', 'def', 'del', 'elif', 'else', 'except', 'finally', 'for', 'from', 'global', 'if', 'import', 'in', 'is', 'lambda', 'nonlocal', 'not', 'or', 'pass', 'raise', 'return', 'try', 'while', 'with', 'yield']\n"
          ]
        }
      ]
    },
    {
      "cell_type": "code",
      "source": [
        "### Write a program that checks if a given word is a Python keyword\n",
        "\n",
        "import keyword\n",
        "\n",
        "# Get input from the user\n",
        "word = input(\"if: \")\n",
        "\n",
        "# Check if the word is a Python keyword\n",
        "if keyword.iskeyword(word):\n",
        "    print(f\"'{word}' is a Python keyword.\")\n",
        "else:\n",
        "    print(f\"'{word}' is not a Python keyword.\")"
      ],
      "metadata": {
        "colab": {
          "base_uri": "https://localhost:8080/"
        },
        "id": "RI8svbo5rG5O",
        "outputId": "549ea305-aa41-412a-ff88-9e5bb705e3b2"
      },
      "execution_count": 7,
      "outputs": [
        {
          "output_type": "stream",
          "name": "stdout",
          "text": [
            "if: If\n",
            "'If' is not a Python keyword.\n"
          ]
        }
      ]
    },
    {
      "cell_type": "code",
      "source": [
        "### Create a list and tuple in Python, and demonstrate how attempting to change an element works differently for each\n",
        "\n",
        "\n",
        "# Create a list and a tuple\n",
        "my_list = [1, 2, 3, 4]\n",
        "my_tuple = (1, 2, 3, 4)\n",
        "\n",
        "# Attempt to change an element in the list\n",
        "my_list[2] = 99\n",
        "print(\"Updated list:\", my_list)\n",
        "\n",
        "# Attempt to change an element in the tuple (this will raise an error)\n",
        "try:\n",
        "    my_tuple[2] = 99\n",
        "except TypeError as e:\n",
        "    print(\"Error when modifying tuple:\", e)"
      ],
      "metadata": {
        "colab": {
          "base_uri": "https://localhost:8080/"
        },
        "id": "iYn6sElYrN7y",
        "outputId": "f8491e3c-7bb2-4627-8dda-98af85317760"
      },
      "execution_count": 6,
      "outputs": [
        {
          "output_type": "stream",
          "name": "stdout",
          "text": [
            "Updated list: [1, 2, 99, 4]\n",
            "Error when modifying tuple: 'tuple' object does not support item assignment\n"
          ]
        }
      ]
    },
    {
      "cell_type": "code",
      "source": [
        "### Write a function to demonstrate the behavior of mutable and immutable arguments ?\n",
        "\n",
        "def modify_args(immutable_arg, mutable_arg):\n",
        "    print(\"Before modification:\")\n",
        "    print(\"Immutable argument:\", immutable_arg)\n",
        "    print(\"Mutable argument:\", mutable_arg)\n",
        "\n",
        "    # Modify the immutable argument (will not change)\n",
        "    immutable_arg += 1\n",
        "    # Modify the mutable argument (will change)\n",
        "    mutable_arg.append(99)\n",
        "\n",
        "    print(\"\\nAfter modification:\")\n",
        "    print(\"Immutable argument:\", immutable_arg)  # The value remains unchanged\n",
        "    print(\"Mutable argument:\", mutable_arg)  # The value changes\n",
        "\n",
        "\n",
        "# Test with immutable and mutable arguments\n",
        "num = 10\n",
        "lst = [1, 2, 3]\n",
        "\n",
        "modify_args(num, lst)"
      ],
      "metadata": {
        "colab": {
          "base_uri": "https://localhost:8080/"
        },
        "id": "uDF-S_2Irpll",
        "outputId": "1ecdd05e-9bed-4868-cf7a-9afecb6cac4e"
      },
      "execution_count": 8,
      "outputs": [
        {
          "output_type": "stream",
          "name": "stdout",
          "text": [
            "Before modification:\n",
            "Immutable argument: 10\n",
            "Mutable argument: [1, 2, 3]\n",
            "\n",
            "After modification:\n",
            "Immutable argument: 11\n",
            "Mutable argument: [1, 2, 3, 99]\n"
          ]
        }
      ]
    },
    {
      "cell_type": "code",
      "source": [
        "### Write a function to demonstrate the behavior of mutable and immutable arguments ?\n",
        "\n",
        "def demonstrate_mutable_immutable(immutable_arg, mutable_arg):\n",
        "    print(\"Before modification:\")\n",
        "    print(f\"Immutable argument (int): {immutable_arg}\")\n",
        "    print(f\"Mutable argument (list): {mutable_arg}\")\n",
        "\n",
        "    # Modify the immutable argument (does not affect the original)\n",
        "    immutable_arg += 10\n",
        "    # Modify the mutable argument (affects the original)\n",
        "    mutable_arg.append(99)\n",
        "\n",
        "    print(\"\\nAfter modification:\")\n",
        "    print(f\"Immutable argument (int): {immutable_arg}\")  # The value is changed locally but not globally\n",
        "    print(f\"Mutable argument (list): {mutable_arg}\")  # The list is modified globally\n",
        "\n",
        "# Test with immutable and mutable arguments\n",
        "immutable_val = 5\n",
        "mutable_val = [1, 2, 3]\n",
        "\n",
        "demonstrate_mutable_immutable(immutable_val, mutable_val)"
      ],
      "metadata": {
        "colab": {
          "base_uri": "https://localhost:8080/"
        },
        "id": "EyJc0zHtryjo",
        "outputId": "25d2b89f-fd62-43a4-b857-22506e726c55"
      },
      "execution_count": 9,
      "outputs": [
        {
          "output_type": "stream",
          "name": "stdout",
          "text": [
            "Before modification:\n",
            "Immutable argument (int): 5\n",
            "Mutable argument (list): [1, 2, 3]\n",
            "\n",
            "After modification:\n",
            "Immutable argument (int): 15\n",
            "Mutable argument (list): [1, 2, 3, 99]\n"
          ]
        }
      ]
    },
    {
      "cell_type": "code",
      "source": [
        "### Write a program to demonstrate the use of logical operators\n",
        "\n",
        "def logical_operators_demo(a, b, c):\n",
        "    print(f\"Checking conditions for a={a}, b={b}, c={c}\")\n",
        "\n",
        "    # Using 'and' operator\n",
        "    if a > 0 and b > 0:\n",
        "        print(\"Both a and b are greater than 0 (AND operator)\")\n",
        "    else:\n",
        "        print(\"At least one of a or b is not greater than 0\")\n",
        "\n",
        "    # Using 'or' operator\n",
        "    if a > 0 or c > 0:\n",
        "        print(\"At least one of a or c is greater than 0 (OR operator)\")\n",
        "    else:\n",
        "        print(\"Neither a nor c is greater than 0\")\n",
        "\n",
        "    # Using 'not' operator\n",
        "    if not (b == 0):\n",
        "        print(\"b is not equal to 0 (NOT operator)\")\n",
        "    else:\n",
        "        print(\"b is equal to 0\")\n",
        "\n",
        "# Test cases\n",
        "logical_operators_demo(5, 0, -3)  # Case 1\n",
        "print(\"-----\")\n",
        "logical_operators_demo(10, 2, 3)  # Case 2"
      ],
      "metadata": {
        "colab": {
          "base_uri": "https://localhost:8080/"
        },
        "id": "4FmqqqtCrzWR",
        "outputId": "9485b564-3378-4de3-8c90-64ce9eed7297"
      },
      "execution_count": 10,
      "outputs": [
        {
          "output_type": "stream",
          "name": "stdout",
          "text": [
            "Checking conditions for a=5, b=0, c=-3\n",
            "At least one of a or b is not greater than 0\n",
            "At least one of a or c is greater than 0 (OR operator)\n",
            "b is equal to 0\n",
            "-----\n",
            "Checking conditions for a=10, b=2, c=3\n",
            "Both a and b are greater than 0 (AND operator)\n",
            "At least one of a or c is greater than 0 (OR operator)\n",
            "b is not equal to 0 (NOT operator)\n"
          ]
        }
      ]
    },
    {
      "cell_type": "code",
      "source": [
        "### Write a function to demonstrate the behavior of mutable and immutable arguments ?\n",
        "\n",
        "def demonstrate_mutable_immutable(immutable_arg, mutable_arg):\n",
        "    print(\"Before modification:\")\n",
        "    print(f\"Immutable argument (int): {immutable_arg}\")\n",
        "    print(f\"Mutable argument (list): {mutable_arg}\")\n",
        "\n",
        "    # Modify the immutable argument (does not affect the original)\n",
        "    immutable_arg += 10\n",
        "    # Modify the mutable argument (affects the original)\n",
        "    mutable_arg.append(99)\n",
        "\n",
        "    print(\"\\nAfter modification:\")\n",
        "    print(f\"Immutable argument (int): {immutable_arg}\")  # The value is changed locally but not globally\n",
        "    print(f\"Mutable argument (list): {mutable_arg}\")  # The list is modified globally\n",
        "\n",
        "# Test with immutable and mutable arguments\n",
        "immutable_val = 5\n",
        "mutable_val = [1, 2, 3]\n",
        "\n",
        "demonstrate_mutable_immutable(immutable_val, mutable_val)"
      ],
      "metadata": {
        "colab": {
          "base_uri": "https://localhost:8080/"
        },
        "id": "w428IzcgsCTt",
        "outputId": "9ff163e9-c35c-4ae6-c0f3-b28a44e9ef60"
      },
      "execution_count": 11,
      "outputs": [
        {
          "output_type": "stream",
          "name": "stdout",
          "text": [
            "Before modification:\n",
            "Immutable argument (int): 5\n",
            "Mutable argument (list): [1, 2, 3]\n",
            "\n",
            "After modification:\n",
            "Immutable argument (int): 15\n",
            "Mutable argument (list): [1, 2, 3, 99]\n"
          ]
        }
      ]
    },
    {
      "cell_type": "code",
      "source": [
        "### Write a Python program to convert user input from string to integer, float, and boolean types\n",
        "\n",
        "# Take input from the user as a string\n",
        "user_input = input(\"Enter a value:\")\n",
        "\n",
        "# Convert the string to an integer\n",
        "try:\n",
        "    user_input_int = int(user_input)\n",
        "    print(f\"The value as an integer: {user_input_int}\")\n",
        "except ValueError:\n",
        "    print(\"The input could not be converted to an integer.\")\n",
        "\n",
        "# Convert the string to a float\n",
        "try:\n",
        "    user_input_float = float(user_input)\n",
        "    print(f\"The value as a float: {user_input_float}\")\n",
        "except ValueError:\n",
        "    print(\"The input could not be converted to a float.\")\n",
        "\n",
        "# Convert the string to a boolean\n",
        "# For the boolean conversion, we consider 'True' and 'False' (case-insensitive)\n",
        "user_input_lower = user_input.strip().lower()\n",
        "if user_input_lower == \"true\":\n",
        "    user_input_bool = True\n",
        "elif user_input_lower == \"false\":\n",
        "    user_input_bool = False\n",
        "else:\n",
        "    # If input is not 'true' or 'false', default to False\n",
        "    user_input_bool = False\n",
        "\n",
        "print(f\"The value as a boolean: {user_input_bool}\")"
      ],
      "metadata": {
        "colab": {
          "base_uri": "https://localhost:8080/"
        },
        "id": "W6jECQHgsJFn",
        "outputId": "3f66376d-32b1-4343-9606-1b8dc645674c"
      },
      "execution_count": 13,
      "outputs": [
        {
          "output_type": "stream",
          "name": "stdout",
          "text": [
            "Enter a value:17\n",
            "The value as an integer: 17\n",
            "The value as a float: 17.0\n",
            "The value as a boolean: False\n"
          ]
        }
      ]
    },
    {
      "cell_type": "code",
      "source": [
        "### Write code to demonstrate type casting with list elements.\n",
        "\n",
        "def type_casting_demo():\n",
        "    # Original list with different types of elements\n",
        "    mixed_list = [1, 2.5, \"3\", True, [4, 5]]\n",
        "\n",
        "    print(\"Original list:\", mixed_list)\n",
        "\n",
        "    # Type casting: converting elements to different types\n",
        "\n",
        "    # Convert float to integer\n",
        "    int_value = int(mixed_list[1])\n",
        "    print(\"\\nElement '2.5' converted to int:\", int_value)\n",
        "\n",
        "    # Convert string to integer (assuming the string represents a number)\n",
        "    str_to_int = int(mixed_list[2])\n",
        "    print(\"\\nElement '3' (string) converted to int:\", str_to_int)\n",
        "\n",
        "    # Convert boolean to integer (True -> 1, False -> 0)\n",
        "    bool_to_int = int(mixed_list[3])\n",
        "    print(\"\\nElement 'True' converted to int:\", bool_to_int)\n",
        "\n",
        "    # Convert integer to float\n",
        "    int_to_float = float(mixed_list[0])\n",
        "    print(\"\\nElement '1' converted to float:\", int_to_float)\n",
        "\n",
        "    # Convert list to string (it will be a string representation of the list)\n",
        "    list_to_str = str(mixed_list[4])\n",
        "    print(\"\\nElement '[4, 5]' converted to string:\", list_to_str)\n",
        "\n",
        "    # Convert the list itself to a tuple\n",
        "    list_to_tuple = tuple(mixed_list)\n",
        "    print(\"\\nEntire list converted to tuple:\", list_to_tuple)\n",
        "\n",
        "# Call the function to demonstrate type casting\n",
        "type_casting_demo()"
      ],
      "metadata": {
        "colab": {
          "base_uri": "https://localhost:8080/"
        },
        "id": "ZSIjC4yYsjNi",
        "outputId": "25452ecd-51cd-4804-c47c-fa04f78fda17"
      },
      "execution_count": 15,
      "outputs": [
        {
          "output_type": "stream",
          "name": "stdout",
          "text": [
            "Original list: [1, 2.5, '3', True, [4, 5]]\n",
            "\n",
            "Element '2.5' converted to int: 2\n",
            "\n",
            "Element '3' (string) converted to int: 3\n",
            "\n",
            "Element 'True' converted to int: 1\n",
            "\n",
            "Element '1' converted to float: 1.0\n",
            "\n",
            "Element '[4, 5]' converted to string: [4, 5]\n",
            "\n",
            "Entire list converted to tuple: (1, 2.5, '3', True, [4, 5])\n"
          ]
        }
      ]
    },
    {
      "cell_type": "code",
      "source": [
        "\n",
        "### Write a program that checks if a number is positive, negative, or zero\n",
        "\n",
        "# Get input from the user\n",
        "number = float(input(\"Enter a number: \"))\n",
        "\n",
        "# Check the number\n",
        "if number > 0:\n",
        "    print(\"The number is positive.\")\n",
        "elif number < 0:\n",
        "    print(\"The number is negative.\")\n",
        "else:\n",
        "    print(\"The number is zero.\")\n",
        "\n"
      ],
      "metadata": {
        "colab": {
          "base_uri": "https://localhost:8080/"
        },
        "id": "dsuKqtO1th5N",
        "outputId": "2a1ec784-1852-499e-cee9-fa90452a9b26"
      },
      "execution_count": 19,
      "outputs": [
        {
          "output_type": "stream",
          "name": "stdout",
          "text": [
            "Enter a number: 5\n",
            "The number is positive.\n"
          ]
        }
      ]
    },
    {
      "cell_type": "code",
      "source": [
        "###  Write a for loop to print numbers from 1 to 100\n",
        "\n",
        "# Use a for loop to print numbers from 1 to 100\n",
        "for number in range(1, 101):\n",
        "    print(number)"
      ],
      "metadata": {
        "colab": {
          "base_uri": "https://localhost:8080/"
        },
        "id": "xTKiP7YmuKy8",
        "outputId": "36e8a409-6421-4d36-bbb8-043708b213fe"
      },
      "execution_count": 20,
      "outputs": [
        {
          "output_type": "stream",
          "name": "stdout",
          "text": [
            "1\n",
            "2\n",
            "3\n",
            "4\n",
            "5\n",
            "6\n",
            "7\n",
            "8\n",
            "9\n",
            "10\n",
            "11\n",
            "12\n",
            "13\n",
            "14\n",
            "15\n",
            "16\n",
            "17\n",
            "18\n",
            "19\n",
            "20\n",
            "21\n",
            "22\n",
            "23\n",
            "24\n",
            "25\n",
            "26\n",
            "27\n",
            "28\n",
            "29\n",
            "30\n",
            "31\n",
            "32\n",
            "33\n",
            "34\n",
            "35\n",
            "36\n",
            "37\n",
            "38\n",
            "39\n",
            "40\n",
            "41\n",
            "42\n",
            "43\n",
            "44\n",
            "45\n",
            "46\n",
            "47\n",
            "48\n",
            "49\n",
            "50\n",
            "51\n",
            "52\n",
            "53\n",
            "54\n",
            "55\n",
            "56\n",
            "57\n",
            "58\n",
            "59\n",
            "60\n",
            "61\n",
            "62\n",
            "63\n",
            "64\n",
            "65\n",
            "66\n",
            "67\n",
            "68\n",
            "69\n",
            "70\n",
            "71\n",
            "72\n",
            "73\n",
            "74\n",
            "75\n",
            "76\n",
            "77\n",
            "78\n",
            "79\n",
            "80\n",
            "81\n",
            "82\n",
            "83\n",
            "84\n",
            "85\n",
            "86\n",
            "87\n",
            "88\n",
            "89\n",
            "90\n",
            "91\n",
            "92\n",
            "93\n",
            "94\n",
            "95\n",
            "96\n",
            "97\n",
            "98\n",
            "99\n",
            "100\n"
          ]
        }
      ]
    },
    {
      "cell_type": "code",
      "source": [
        "### Write a Python program to find the sum of all even numbers between 1 and 50\n",
        "\n",
        "\n",
        "# Initialize the sum to 0\n",
        "sum_of_even_numbers = 0\n",
        "\n",
        "# Use a for loop to iterate over numbers from 1 to 50\n",
        "for number in range(1, 51):\n",
        "    # Check if the number is even\n",
        "    if number % 2 == 0:\n",
        "        sum_of_even_numbers += number\n",
        "\n",
        "# Print the sum of even numbers\n",
        "print(f\"The sum of all even numbers between 1 and 50 is: {sum_of_even_numbers}\")"
      ],
      "metadata": {
        "colab": {
          "base_uri": "https://localhost:8080/"
        },
        "id": "nm_13XkeuRcB",
        "outputId": "028b80a2-af61-4daa-9d53-bd969d2a2ae7"
      },
      "execution_count": 21,
      "outputs": [
        {
          "output_type": "stream",
          "name": "stdout",
          "text": [
            "The sum of all even numbers between 1 and 50 is: 650\n"
          ]
        }
      ]
    },
    {
      "cell_type": "code",
      "source": [
        "### Write a program to reverse a string using a while loop\n",
        "\n",
        "# Get user input\n",
        "input_string = input(\"Type a string: \")\n",
        "\n",
        "# Initialize variables\n",
        "reversed_string = \"\"\n",
        "index = len(input_string) - 1\n",
        "\n",
        "# Use a while loop to reverse the string\n",
        "while index >= 0:\n",
        "    reversed_string += input_string[index]\n",
        "    index -= 1\n",
        "\n",
        "# Print the reversed string\n",
        "print(f\"The reversed string is: {reversed_string}\")"
      ],
      "metadata": {
        "colab": {
          "base_uri": "https://localhost:8080/"
        },
        "id": "3IJVu8-rwSlR",
        "outputId": "ea07e3d1-e0cb-4b60-abde-e369a44e6c6c"
      },
      "execution_count": 24,
      "outputs": [
        {
          "output_type": "stream",
          "name": "stdout",
          "text": [
            "Type a string: Aman Sharma\n",
            "The reversed string is: amrahS namA\n"
          ]
        }
      ]
    },
    {
      "cell_type": "code",
      "source": [
        "### Write a Python program to calculate the factorial of a number provided by the user using a while loop.\n",
        "\n",
        "# Get user input\n",
        "number = int(input(\"Enter a number to calculate its factorial: \"))\n",
        "\n",
        "# Initialize variables\n",
        "factorial = 1\n",
        "counter = number\n",
        "\n",
        "# Use a while loop to calculate the factorial\n",
        "while counter > 0:\n",
        "    factorial *= counter  # Multiply the current factorial by the counter\n",
        "    counter -= 1  # Decrement the counter\n",
        "\n",
        "# Print the result\n",
        "print(f\"The factorial of {number} is: {factorial}\")"
      ],
      "metadata": {
        "colab": {
          "base_uri": "https://localhost:8080/"
        },
        "id": "IUO4DRhrvwRK",
        "outputId": "890362a9-9c54-45cb-eb74-f0324ef6e4bd"
      },
      "execution_count": 23,
      "outputs": [
        {
          "output_type": "stream",
          "name": "stdout",
          "text": [
            "Enter a number to calculate its factorial: 10\n",
            "The factorial of 10 is: 3628800\n"
          ]
        }
      ]
    }
  ]
}